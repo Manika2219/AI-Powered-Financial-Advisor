{
  "nbformat": 4,
  "nbformat_minor": 0,
  "metadata": {
    "colab": {
      "provenance": [],
      "authorship_tag": "ABX9TyNhUzDKDVCp4BLpr6KedJjg",
      "include_colab_link": true
    },
    "kernelspec": {
      "name": "python3",
      "display_name": "Python 3"
    },
    "language_info": {
      "name": "python"
    }
  },
  "cells": [
    {
      "cell_type": "markdown",
      "metadata": {
        "id": "view-in-github",
        "colab_type": "text"
      },
      "source": [
        "<a href=\"https://colab.research.google.com/github/Manika2219/AI-Powered-Financial-Advisor/blob/main/AI_Powered_Financial_Advisor.ipynb\" target=\"_parent\"><img src=\"https://colab.research.google.com/assets/colab-badge.svg\" alt=\"Open In Colab\"/></a>"
      ]
    },
    {
      "cell_type": "code",
      "execution_count": 37,
      "metadata": {
        "id": "UvIctDl_LnbQ"
      },
      "outputs": [],
      "source": [
        "# Step 1: Import Libraries\n",
        "import pandas as pd\n",
        "import numpy as np\n",
        "import matplotlib.pyplot as plt\n",
        "import seaborn as sns\n",
        "from sklearn.model_selection import train_test_split\n",
        "from sklearn.ensemble import RandomForestClassifier\n",
        "from sklearn.metrics import classification_report, confusion_matrix, accuracy_score\n",
        "from sklearn.preprocessing import LabelEncoder"
      ]
    },
    {
      "cell_type": "code",
      "source": [
        "# Step 2: Load Dataset from Path\n",
        "file_path = \"/content/Finance Dataset.csv\"  # Specify the file path\n",
        "data = pd.read_csv(file_path)"
      ],
      "metadata": {
        "id": "xDGSzMXiLqdZ"
      },
      "execution_count": 38,
      "outputs": []
    },
    {
      "cell_type": "code",
      "source": [
        "# Display basic info\n",
        "print(\"Dataset Head:\")\n",
        "print(data.head())\n",
        "print(\"\\nDataset Info:\")\n",
        "print(data.info())"
      ],
      "metadata": {
        "id": "AquR2NQ2M5J2",
        "colab": {
          "base_uri": "https://localhost:8080/"
        },
        "outputId": "c4548f2c-c32a-45f8-afac-e5f0630f572c"
      },
      "execution_count": 39,
      "outputs": [
        {
          "output_type": "stream",
          "name": "stdout",
          "text": [
            "Dataset Head:\n",
            "   step      type    amount     nameOrig  oldbalanceOrg  newbalanceOrig  \\\n",
            "0     1   PAYMENT   9839.64  C1231006815       170136.0       160296.36   \n",
            "1     1   PAYMENT   1864.28  C1666544295        21249.0        19384.72   \n",
            "2     1  TRANSFER    181.00  C1305486145          181.0            0.00   \n",
            "3     1  CASH_OUT    181.00   C840083671          181.0            0.00   \n",
            "4     1   PAYMENT  11668.14  C2048537720        41554.0        29885.86   \n",
            "\n",
            "      nameDest  oldbalanceDest  newbalanceDest  isFraud  isFlaggedFraud  \n",
            "0  M1979787155             0.0             0.0      0.0             0.0  \n",
            "1  M2044282225             0.0             0.0      0.0             0.0  \n",
            "2   C553264065             0.0             0.0      1.0             0.0  \n",
            "3    C38997010         21182.0             0.0      1.0             0.0  \n",
            "4  M1230701703             0.0             0.0      0.0             0.0  \n",
            "\n",
            "Dataset Info:\n",
            "<class 'pandas.core.frame.DataFrame'>\n",
            "RangeIndex: 301134 entries, 0 to 301133\n",
            "Data columns (total 11 columns):\n",
            " #   Column          Non-Null Count   Dtype  \n",
            "---  ------          --------------   -----  \n",
            " 0   step            301134 non-null  int64  \n",
            " 1   type            301134 non-null  object \n",
            " 2   amount          301134 non-null  float64\n",
            " 3   nameOrig        301134 non-null  object \n",
            " 4   oldbalanceOrg   301134 non-null  float64\n",
            " 5   newbalanceOrig  301134 non-null  float64\n",
            " 6   nameDest        301134 non-null  object \n",
            " 7   oldbalanceDest  301134 non-null  float64\n",
            " 8   newbalanceDest  301133 non-null  float64\n",
            " 9   isFraud         301133 non-null  float64\n",
            " 10  isFlaggedFraud  301133 non-null  float64\n",
            "dtypes: float64(7), int64(1), object(3)\n",
            "memory usage: 25.3+ MB\n",
            "None\n"
          ]
        }
      ]
    },
    {
      "cell_type": "code",
      "source": [
        "# Step 3: Exploratory Data Analysis (EDA)\n",
        "# Overview of transaction types\n",
        "print(\"\\n--- Overview of Transaction Types ---\")\n",
        "print(data['type'].value_counts())"
      ],
      "metadata": {
        "colab": {
          "base_uri": "https://localhost:8080/"
        },
        "id": "rWiAog3OM9yd",
        "outputId": "5ce1c3d9-eca6-40e2-bc64-fca18ee48bbe"
      },
      "execution_count": 40,
      "outputs": [
        {
          "output_type": "stream",
          "name": "stdout",
          "text": [
            "\n",
            "--- Overview of Transaction Types ---\n",
            "type\n",
            "CASH_OUT    105757\n",
            "PAYMENT     104491\n",
            "CASH_IN      63620\n",
            "TRANSFER     25029\n",
            "DEBIT         2237\n",
            "Name: count, dtype: int64\n"
          ]
        }
      ]
    },
    {
      "cell_type": "code",
      "source": [
        "# Visualize distribution of transaction types\n",
        "plt.figure(figsize=(10, 6))\n",
        "sns.countplot(data['type'])\n",
        "plt.title('Transaction Types')\n",
        "plt.xlabel('Transaction Type')\n",
        "plt.ylabel('Count')\n",
        "plt.show()"
      ],
      "metadata": {
        "colab": {
          "base_uri": "https://localhost:8080/",
          "height": 564
        },
        "id": "PpGoAPjlNLOc",
        "outputId": "e3c21300-10a2-4734-a498-10ed64db9990"
      },
      "execution_count": 41,
      "outputs": [
        {
          "output_type": "display_data",
          "data": {
            "text/plain": [
              "<Figure size 1000x600 with 1 Axes>"
            ],
            "image/png": "[encoded data removed]"
          },
          "metadata": {}
        }
      ]
    },
    {
      "cell_type": "code",
      "source": [
        "# Step 4: Data Preprocessing\n",
        "# Convert categorical 'type' to numerical using LabelEncoder\n",
        "le_type = LabelEncoder()\n",
        "data['type'] = le_type.fit_transform(data['type'])"
      ],
      "metadata": {
        "id": "v81W_lMqg-8T"
      },
      "execution_count": 42,
      "outputs": []
    },
    {
      "cell_type": "code",
      "source": [
        "# Handle missing values if any\n",
        "data = data.fillna(0)"
      ],
      "metadata": {
        "id": "iI1WTEc3hBgx"
      },
      "execution_count": 43,
      "outputs": []
    },
    {
      "cell_type": "code",
      "source": [
        "# Step 5: Fraud Detection Modeling\n",
        "# Define features (X) and target (y)\n",
        "X = data.drop(['nameOrig', 'nameDest', 'isFlaggedFraud'], axis=1)  # Exclude unnecessary columns\n",
        "y = data['isFraud']\n",
        "\n",
        "# Train-test split\n",
        "X_train, X_test, y_train, y_test = train_test_split(X, y, test_size=0.3, random_state=42)\n",
        "\n",
        "# Train a Random Forest Classifier\n",
        "rf_model = RandomForestClassifier(random_state=42)\n",
        "rf_model.fit(X_train, y_train)\n",
        "\n",
        "# Predictions\n",
        "y_pred = rf_model.predict(X_test)\n",
        "\n",
        "# Evaluation\n",
        "print(\"\\nConfusion Matrix:\\n\", confusion_matrix(y_test, y_pred))\n",
        "print(\"\\nClassification Report:\\n\", classification_report(y_test, y_pred))\n",
        "print(\"\\nAccuracy Score: \", accuracy_score(y_test, y_pred))"
      ],
      "metadata": {
        "colab": {
          "base_uri": "https://localhost:8080/"
        },
        "id": "_NdkHEL_hFDI",
        "outputId": "c1ea83ca-4342-46c8-8b26-a413efbcf57e"
      },
      "execution_count": 44,
      "outputs": [
        {
          "output_type": "stream",
          "name": "stdout",
          "text": [
            "\n",
            "Confusion Matrix:\n",
            " [[90291     0]\n",
            " [    0    50]]\n",
            "\n",
            "Classification Report:\n",
            "               precision    recall  f1-score   support\n",
            "\n",
            "         0.0       1.00      1.00      1.00     90291\n",
            "         1.0       1.00      1.00      1.00        50\n",
            "\n",
            "    accuracy                           1.00     90341\n",
            "   macro avg       1.00      1.00      1.00     90341\n",
            "weighted avg       1.00      1.00      1.00     90341\n",
            "\n",
            "\n",
            "Accuracy Score:  1.0\n"
          ]
        }
      ]
    },
    {
      "cell_type": "code",
      "source": [
        "# Step 6: Financial Insights (Budgeting Advice)\n",
        "# Example: Suggest average spend by transaction type\n",
        "average_spend = data.groupby('type')['amount'].mean()\n",
        "print(\"\\nAverage Spend by Transaction Type:\\n\", average_spend)\n",
        "\n",
        "# Visualize spending by type\n",
        "average_spend.plot(kind='bar', figsize=(8, 5), color='skyblue')\n",
        "plt.title('Average Spending by Transaction Type')\n",
        "plt.xlabel('Transaction Type')\n",
        "plt.ylabel('Average Amount')\n",
        "plt.show()"
      ],
      "metadata": {
        "colab": {
          "base_uri": "https://localhost:8080/",
          "height": 638
        },
        "id": "NjdYZD-ghSeJ",
        "outputId": "2652389f-8b44-42c0-ce99-b1ee368eb011"
      },
      "execution_count": 45,
      "outputs": [
        {
          "output_type": "stream",
          "name": "stdout",
          "text": [
            "\n",
            "Average Spend by Transaction Type:\n",
            " type\n",
            "0    180034.722302\n",
            "1    199549.495387\n",
            "2      7959.930626\n",
            "3     11859.332616\n",
            "4    767815.416144\n",
            "Name: amount, dtype: float64\n"
          ]
        },
        {
          "output_type": "display_data",
          "data": {
            "text/plain": [
              "<Figure size 800x500 with 1 Axes>"
            ],
            "image/png": "[encoded data removed]"
          },
          "metadata": {}
        }
      ]
    },
    {
      "cell_type": "code",
      "source": [
        "# Convert the sample transaction to a DataFrame with the same column names\n",
        "sample_transaction_df = pd.DataFrame([sample_transaction], columns=X_test.columns)\n",
        "\n",
        "# Compute fraud probability\n",
        "fraud_probability = rf_model.predict_proba(sample_transaction_df)[0][1] * 100\n",
        "print(f\"Fraud Probability for sample transaction: {fraud_probability:.2f}%\")\n"
      ],
      "metadata": {
        "colab": {
          "base_uri": "https://localhost:8080/"
        },
        "id": "Kzz0xqpYhfrL",
        "outputId": "d5f3373b-be2e-4b03-831a-7e8b98ca05f1"
      },
      "execution_count": 46,
      "outputs": [
        {
          "output_type": "stream",
          "name": "stdout",
          "text": [
            "Fraud Probability for sample transaction: 0.00%\n"
          ]
        }
      ]
    },
    {
      "cell_type": "code",
      "source": [
        "# Step 8: Interactive User Input (Optional)\n",
        "# Simulate user inputs for financial advice\n",
        "print(\"\\n--- Financial Advisor ---\")\n",
        "transaction_type = input(\"Enter transaction type (e.g., CASH-IN, CASH-OUT): \").upper()  # Convert input to uppercase\n",
        "amount = float(input(\"Enter transaction amount: \"))\n",
        "\n",
        "# Create a dictionary to map original transaction types to numerical labels\n",
        "type_mapping = {\n",
        "    'CASH-IN': 0,\n",
        "    'CASH-OUT': 1,\n",
        "    'PAYMENT': 2,\n",
        "    'TRANSFER': 3,\n",
        "    'DEBIT': 4\n",
        "}  # Add other types if needed\n",
        "\n",
        "# Get the numerical label corresponding to the user's input\n",
        "type_num = type_mapping.get(transaction_type)\n",
        "if type_num is None:\n",
        "    print(\"Invalid transaction type entered. Please enter one of the following:\")\n",
        "    print(list(type_mapping.keys()))  # Show the valid transaction types\n",
        "else:\n",
        "    # Ensure that the 'average_spend' dictionary has the correct values indexed by 'type_num'\n",
        "    try:\n",
        "        # Check if it's within average limits\n",
        "        advice = (\n",
        "            \"Transaction seems normal.\"\n",
        "            if amount <= average_spend[type_num]  # Use type_num here to access average_spend\n",
        "            else \"Warning: High amount compared to the average!\"\n",
        "        )\n",
        "        print(advice)\n",
        "    except KeyError:\n",
        "        print(f\"Error: The transaction type '{transaction_type}' does not have an average value. Please ensure the mapping is correct.\")\n"
      ],
      "metadata": {
        "colab": {
          "base_uri": "https://localhost:8080/"
        },
        "id": "fOGHr620hmay",
        "outputId": "445fd557-075b-4697-c4b8-a28eac94e3cf"
      },
      "execution_count": 30,
      "outputs": [
        {
          "output_type": "stream",
          "name": "stdout",
          "text": [
            "\n",
            "--- Financial Advisor ---\n",
            "Enter transaction type (e.g., CASH-IN, CASH-OUT): Cash-In\n",
            "Enter transaction amount: 5000000\n",
            "Warning: High amount compared to the average!\n"
          ]
        }
      ]
    }
  ]
}